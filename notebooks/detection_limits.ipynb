{
 "cells": [
  {
   "cell_type": "code",
   "execution_count": 1,
   "id": "f2adf4d5-854a-4aa8-af8b-da05d908304b",
   "metadata": {},
   "outputs": [
    {
     "name": "stderr",
     "output_type": "stream",
     "text": [
      "┌ Info: Precompiling DataFrames [a93c6f00-e57d-5684-b7b6-d8193f3e46c0]\n",
      "└ @ Base loading.jl:1317\n",
      "┌ Info: Precompiling SiriusB [2a15530f-af1a-59c5-8974-53d43438f74d]\n",
      "└ @ Base loading.jl:1317\n"
     ]
    }
   ],
   "source": [
    "# julia imports\n",
    "using CSV\n",
    "using DataFrames\n",
    "using PyCall\n",
    "using PyPlot\n",
    "using SiriusB"
   ]
  },
  {
   "cell_type": "code",
   "execution_count": null,
   "id": "d7724ef1-7cc6-4d7d-ba2a-2636a49baacc",
   "metadata": {},
   "outputs": [],
   "source": [
    "# python imports\n",
    "pro = pyimport(\"proplot\")\n"
   ]
  }
 ],
 "metadata": {
  "kernelspec": {
   "display_name": "Julia 1.6.0",
   "language": "julia",
   "name": "julia-1.6"
  },
  "language_info": {
   "file_extension": ".jl",
   "mimetype": "application/julia",
   "name": "julia",
   "version": "1.6.0"
  }
 },
 "nbformat": 4,
 "nbformat_minor": 5
}
